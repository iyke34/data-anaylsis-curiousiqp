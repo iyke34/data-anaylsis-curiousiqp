{
  "nbformat": 4,
  "nbformat_minor": 0,
  "metadata": {
    "colab": {
      "provenance": []
    },
    "kernelspec": {
      "name": "python3",
      "display_name": "Python 3"
    },
    "language_info": {
      "name": "python"
    }
  },
  "cells": [
    {
      "cell_type": "code",
      "execution_count": null,
      "metadata": {
        "id": "DiINMqeBQm1S"
      },
      "outputs": [],
      "source": [
        "import pandas as pd\n",
        "import numpy as np"
      ]
    },
    {
      "cell_type": "code",
      "source": [
        "import pandas as pd\n",
        "import numpy as np"
      ],
      "metadata": {
        "id": "YZG8ZhIrR9de"
      },
      "execution_count": null,
      "outputs": []
    },
    {
      "cell_type": "code",
      "source": [
        "df= pd.read_csv ('Listings_small.csv')"
      ],
      "metadata": {
        "id": "15Ag1gOjWGcl"
      },
      "execution_count": null,
      "outputs": []
    },
    {
      "cell_type": "code",
      "source": [
        "df.info"
      ],
      "metadata": {
        "colab": {
          "base_uri": "https://localhost:8080/"
        },
        "id": "Uc8VKZ_tWt_B",
        "outputId": "2d9042e7-326c-47b6-dea1-a80a1d2ba05f"
      },
      "execution_count": null,
      "outputs": [
        {
          "output_type": "execute_result",
          "data": {
            "text/plain": [
              "<bound method DataFrame.info of      listing_id                                 name  host_id host_since  \\\n",
              "0          2595                Skylit Midtown Castle     2845   09-09-08   \n",
              "1          3109                         zen and calm     3631   14-10-08   \n",
              "2          5178   Large Furnished Room Near B'wayã€€     8967   03-03-09   \n",
              "3          6848     Only 2 stops to Manhattan studio    15991   06-05-09   \n",
              "4          7397     MARAIS - 2ROOMS APT - 2/4 PEOPLE     2626   30-08-08   \n",
              "..          ...                                  ...      ...        ...   \n",
              "995      171422     House near skytrain BKK Thailand   818004   14-07-11   \n",
              "996      171658      In the Chinese quarter of Paris   819015   14-07-11   \n",
              "997      173709   Excelent apt near Copacabana beach   829630   17-07-11   \n",
              "998      175338   Beautiful apt for 2 - Eiffel Tower   738410   24-06-11   \n",
              "999      176185  Penthouse Oceanview Copacab/Ipanema   842466   20-07-11   \n",
              "\n",
              "                              host_location  host_response_time  \\\n",
              "0         New York, New York, United States  within a few hours   \n",
              "1              Paris, Ile-de-France, France                 NaN   \n",
              "2         New York, New York, United States        within a day   \n",
              "3         New York, New York, United States                 NaN   \n",
              "4              Paris, Ile-de-France, France      within an hour   \n",
              "..                                      ...                 ...   \n",
              "995                       Bangkok, Thailand                 NaN   \n",
              "996            Paris, Ile-de-France, France                 NaN   \n",
              "997  Rio de Janeiro, Rio de Janeiro, Brazil  within a few hours   \n",
              "998            Paris, Ile-de-France, France                 NaN   \n",
              "999  Rio de Janeiro, Rio de Janeiro, Brazil      within an hour   \n",
              "\n",
              "     host_response_rate  host_acceptance_rate host_is_superhost  \\\n",
              "0                  0.93                  0.26                 f   \n",
              "1                   NaN                  0.00                 f   \n",
              "2                  1.00                  1.00                 f   \n",
              "3                   NaN                  0.75                 f   \n",
              "4                  1.00                  0.83                 t   \n",
              "..                  ...                   ...               ...   \n",
              "995                 NaN                  1.00                 f   \n",
              "996                 NaN                   NaN                 f   \n",
              "997                1.00                  0.86                 t   \n",
              "998                 NaN                  0.83                 t   \n",
              "999                1.00                  0.00                 t   \n",
              "\n",
              "     host_total_listings_count  ... minimum_nights maximum_nights  \\\n",
              "0                            6  ...             30           1125   \n",
              "1                            1  ...              2             30   \n",
              "2                            1  ...              2             14   \n",
              "3                            1  ...             30            730   \n",
              "4                            3  ...             10            130   \n",
              "..                         ...  ...            ...            ...   \n",
              "995                          2  ...             30            730   \n",
              "996                          1  ...              7             45   \n",
              "997                          2  ...              1             28   \n",
              "998                          1  ...              2             21   \n",
              "999                          1  ...              3             25   \n",
              "\n",
              "    review_scores_rating review_scores_accuracy review_scores_cleanliness  \\\n",
              "0                   94.0                    9.0                       9.0   \n",
              "1                  100.0                   10.0                      10.0   \n",
              "2                   84.0                    9.0                       8.0   \n",
              "3                   91.0                    9.0                      10.0   \n",
              "4                   94.0                   10.0                       9.0   \n",
              "..                   ...                    ...                       ...   \n",
              "995                  NaN                    NaN                       NaN   \n",
              "996                 96.0                   10.0                      10.0   \n",
              "997                 96.0                   10.0                      10.0   \n",
              "998                 97.0                   10.0                       9.0   \n",
              "999                 97.0                   10.0                      10.0   \n",
              "\n",
              "     review_scores_checkin  review_scores_communication  \\\n",
              "0                     10.0                         10.0   \n",
              "1                     10.0                         10.0   \n",
              "2                      9.0                          9.0   \n",
              "3                     10.0                         10.0   \n",
              "4                     10.0                         10.0   \n",
              "..                     ...                          ...   \n",
              "995                    NaN                          NaN   \n",
              "996                   10.0                         10.0   \n",
              "997                   10.0                         10.0   \n",
              "998                   10.0                         10.0   \n",
              "999                   10.0                         10.0   \n",
              "\n",
              "    review_scores_location review_scores_value  instant_bookable  \n",
              "0                     10.0                 9.0                 f  \n",
              "1                     10.0                10.0                 f  \n",
              "2                     10.0                 9.0                 f  \n",
              "3                      9.0                 9.0                 f  \n",
              "4                     10.0                10.0                 f  \n",
              "..                     ...                 ...               ...  \n",
              "995                    NaN                 NaN                 t  \n",
              "996                    9.0                10.0                 f  \n",
              "997                   10.0                10.0                 f  \n",
              "998                   10.0                10.0                 f  \n",
              "999                   10.0                10.0                 f  \n",
              "\n",
              "[1000 rows x 33 columns]>"
            ]
          },
          "metadata": {},
          "execution_count": 19
        }
      ]
    },
    {
      "cell_type": "code",
      "source": [],
      "metadata": {
        "id": "zyFC1T-Bzns4"
      },
      "execution_count": null,
      "outputs": []
    },
    {
      "cell_type": "code",
      "source": [
        "df.dtypes"
      ],
      "metadata": {
        "colab": {
          "base_uri": "https://localhost:8080/"
        },
        "id": "QuacYvnpX4TI",
        "outputId": "6e636372-d05b-41da-f1ef-c5cb06449dd4"
      },
      "execution_count": null,
      "outputs": [
        {
          "output_type": "execute_result",
          "data": {
            "text/plain": [
              "listing_id                       int64\n",
              "name                            object\n",
              "host_id                          int64\n",
              "host_since                      object\n",
              "host_location                   object\n",
              "host_response_time              object\n",
              "host_response_rate             float64\n",
              "host_acceptance_rate           float64\n",
              "host_is_superhost               object\n",
              "host_total_listings_count        int64\n",
              "host_has_profile_pic            object\n",
              "host_identity_verified          object\n",
              "neighbourhood                   object\n",
              "district                        object\n",
              "city                            object\n",
              "latitude                       float64\n",
              "longitude                      float64\n",
              "property_type                   object\n",
              "room_type                       object\n",
              "accommodates                     int64\n",
              "bedrooms                       float64\n",
              "amenities                       object\n",
              "price                            int64\n",
              "minimum_nights                   int64\n",
              "maximum_nights                   int64\n",
              "review_scores_rating           float64\n",
              "review_scores_accuracy         float64\n",
              "review_scores_cleanliness      float64\n",
              "review_scores_checkin          float64\n",
              "review_scores_communication    float64\n",
              "review_scores_location         float64\n",
              "review_scores_value            float64\n",
              "instant_bookable                object\n",
              "dtype: object"
            ]
          },
          "metadata": {},
          "execution_count": 20
        }
      ]
    },
    {
      "cell_type": "code",
      "source": [
        "df.describe"
      ],
      "metadata": {
        "colab": {
          "base_uri": "https://localhost:8080/"
        },
        "id": "P4il4L7NbLZF",
        "outputId": "3159bf43-34fb-429e-c12f-1c37e8b00ddb"
      },
      "execution_count": null,
      "outputs": [
        {
          "output_type": "execute_result",
          "data": {
            "text/plain": [
              "<bound method NDFrame.describe of      listing_id                                 name  host_id host_since  \\\n",
              "0          2595                Skylit Midtown Castle     2845   09-09-08   \n",
              "1          3109                         zen and calm     3631   14-10-08   \n",
              "2          5178   Large Furnished Room Near B'wayã€€     8967   03-03-09   \n",
              "3          6848     Only 2 stops to Manhattan studio    15991   06-05-09   \n",
              "4          7397     MARAIS - 2ROOMS APT - 2/4 PEOPLE     2626   30-08-08   \n",
              "..          ...                                  ...      ...        ...   \n",
              "995      171422     House near skytrain BKK Thailand   818004   14-07-11   \n",
              "996      171658      In the Chinese quarter of Paris   819015   14-07-11   \n",
              "997      173709   Excelent apt near Copacabana beach   829630   17-07-11   \n",
              "998      175338   Beautiful apt for 2 - Eiffel Tower   738410   24-06-11   \n",
              "999      176185  Penthouse Oceanview Copacab/Ipanema   842466   20-07-11   \n",
              "\n",
              "                              host_location  host_response_time  \\\n",
              "0         New York, New York, United States  within a few hours   \n",
              "1              Paris, Ile-de-France, France                 NaN   \n",
              "2         New York, New York, United States        within a day   \n",
              "3         New York, New York, United States                 NaN   \n",
              "4              Paris, Ile-de-France, France      within an hour   \n",
              "..                                      ...                 ...   \n",
              "995                       Bangkok, Thailand                 NaN   \n",
              "996            Paris, Ile-de-France, France                 NaN   \n",
              "997  Rio de Janeiro, Rio de Janeiro, Brazil  within a few hours   \n",
              "998            Paris, Ile-de-France, France                 NaN   \n",
              "999  Rio de Janeiro, Rio de Janeiro, Brazil      within an hour   \n",
              "\n",
              "     host_response_rate  host_acceptance_rate host_is_superhost  \\\n",
              "0                  0.93                  0.26                 f   \n",
              "1                   NaN                  0.00                 f   \n",
              "2                  1.00                  1.00                 f   \n",
              "3                   NaN                  0.75                 f   \n",
              "4                  1.00                  0.83                 t   \n",
              "..                  ...                   ...               ...   \n",
              "995                 NaN                  1.00                 f   \n",
              "996                 NaN                   NaN                 f   \n",
              "997                1.00                  0.86                 t   \n",
              "998                 NaN                  0.83                 t   \n",
              "999                1.00                  0.00                 t   \n",
              "\n",
              "     host_total_listings_count  ... minimum_nights maximum_nights  \\\n",
              "0                            6  ...             30           1125   \n",
              "1                            1  ...              2             30   \n",
              "2                            1  ...              2             14   \n",
              "3                            1  ...             30            730   \n",
              "4                            3  ...             10            130   \n",
              "..                         ...  ...            ...            ...   \n",
              "995                          2  ...             30            730   \n",
              "996                          1  ...              7             45   \n",
              "997                          2  ...              1             28   \n",
              "998                          1  ...              2             21   \n",
              "999                          1  ...              3             25   \n",
              "\n",
              "    review_scores_rating review_scores_accuracy review_scores_cleanliness  \\\n",
              "0                   94.0                    9.0                       9.0   \n",
              "1                  100.0                   10.0                      10.0   \n",
              "2                   84.0                    9.0                       8.0   \n",
              "3                   91.0                    9.0                      10.0   \n",
              "4                   94.0                   10.0                       9.0   \n",
              "..                   ...                    ...                       ...   \n",
              "995                  NaN                    NaN                       NaN   \n",
              "996                 96.0                   10.0                      10.0   \n",
              "997                 96.0                   10.0                      10.0   \n",
              "998                 97.0                   10.0                       9.0   \n",
              "999                 97.0                   10.0                      10.0   \n",
              "\n",
              "     review_scores_checkin  review_scores_communication  \\\n",
              "0                     10.0                         10.0   \n",
              "1                     10.0                         10.0   \n",
              "2                      9.0                          9.0   \n",
              "3                     10.0                         10.0   \n",
              "4                     10.0                         10.0   \n",
              "..                     ...                          ...   \n",
              "995                    NaN                          NaN   \n",
              "996                   10.0                         10.0   \n",
              "997                   10.0                         10.0   \n",
              "998                   10.0                         10.0   \n",
              "999                   10.0                         10.0   \n",
              "\n",
              "    review_scores_location review_scores_value  instant_bookable  \n",
              "0                     10.0                 9.0                 f  \n",
              "1                     10.0                10.0                 f  \n",
              "2                     10.0                 9.0                 f  \n",
              "3                      9.0                 9.0                 f  \n",
              "4                     10.0                10.0                 f  \n",
              "..                     ...                 ...               ...  \n",
              "995                    NaN                 NaN                 t  \n",
              "996                    9.0                10.0                 f  \n",
              "997                   10.0                10.0                 f  \n",
              "998                   10.0                10.0                 f  \n",
              "999                   10.0                10.0                 f  \n",
              "\n",
              "[1000 rows x 33 columns]>"
            ]
          },
          "metadata": {},
          "execution_count": 21
        }
      ]
    },
    {
      "cell_type": "code",
      "source": [],
      "metadata": {
        "id": "PgbgH09HV1rU"
      },
      "execution_count": null,
      "outputs": []
    },
    {
      "cell_type": "code",
      "source": [
        "df.isna().sum()"
      ],
      "metadata": {
        "colab": {
          "base_uri": "https://localhost:8080/"
        },
        "id": "hwsf7ozDdiBD",
        "outputId": "a8635662-8228-4518-9ead-628c3a19a55b"
      },
      "execution_count": null,
      "outputs": [
        {
          "output_type": "execute_result",
          "data": {
            "text/plain": [
              "listing_id                       0\n",
              "name                             0\n",
              "host_id                          0\n",
              "host_since                       0\n",
              "host_location                    0\n",
              "host_response_time             433\n",
              "host_response_rate             433\n",
              "host_acceptance_rate           325\n",
              "host_is_superhost                0\n",
              "host_total_listings_count        0\n",
              "host_has_profile_pic             0\n",
              "host_identity_verified           0\n",
              "neighbourhood                    0\n",
              "district                       674\n",
              "city                             0\n",
              "latitude                         0\n",
              "longitude                        0\n",
              "property_type                    0\n",
              "room_type                        0\n",
              "accommodates                     0\n",
              "bedrooms                        55\n",
              "amenities                        0\n",
              "price                            0\n",
              "minimum_nights                   0\n",
              "maximum_nights                   0\n",
              "review_scores_rating           101\n",
              "review_scores_accuracy         105\n",
              "review_scores_cleanliness      105\n",
              "review_scores_checkin          106\n",
              "review_scores_communication    106\n",
              "review_scores_location         106\n",
              "review_scores_value            106\n",
              "instant_bookable                 0\n",
              "dtype: int64"
            ]
          },
          "metadata": {},
          "execution_count": 21
        }
      ]
    },
    {
      "cell_type": "code",
      "source": [
        "df.count(axis=0)"
      ],
      "metadata": {
        "colab": {
          "base_uri": "https://localhost:8080/"
        },
        "id": "nShZgqqDksYe",
        "outputId": "bf2be209-7bb5-4e93-b8de-5e3715298028"
      },
      "execution_count": null,
      "outputs": [
        {
          "output_type": "execute_result",
          "data": {
            "text/plain": [
              "listing_id                     1000\n",
              "name                           1000\n",
              "host_id                        1000\n",
              "host_since                     1000\n",
              "host_location                  1000\n",
              "host_response_time              567\n",
              "host_response_rate              567\n",
              "host_acceptance_rate            675\n",
              "host_is_superhost              1000\n",
              "host_total_listings_count      1000\n",
              "host_has_profile_pic           1000\n",
              "host_identity_verified         1000\n",
              "neighbourhood                  1000\n",
              "district                        326\n",
              "city                           1000\n",
              "latitude                       1000\n",
              "longitude                      1000\n",
              "property_type                  1000\n",
              "room_type                      1000\n",
              "accommodates                   1000\n",
              "bedrooms                        945\n",
              "amenities                      1000\n",
              "price                          1000\n",
              "minimum_nights                 1000\n",
              "maximum_nights                 1000\n",
              "review_scores_rating            899\n",
              "review_scores_accuracy          895\n",
              "review_scores_cleanliness       895\n",
              "review_scores_checkin           894\n",
              "review_scores_communication     894\n",
              "review_scores_location          894\n",
              "review_scores_value             894\n",
              "instant_bookable               1000\n",
              "dtype: int64"
            ]
          },
          "metadata": {},
          "execution_count": 27
        }
      ]
    },
    {
      "cell_type": "code",
      "source": [
        "df.listing_id"
      ],
      "metadata": {
        "id": "Va_uXowwsRG2",
        "colab": {
          "base_uri": "https://localhost:8080/"
        },
        "outputId": "8486b794-3d2b-4096-bdd6-95dab1ba9824"
      },
      "execution_count": null,
      "outputs": [
        {
          "output_type": "execute_result",
          "data": {
            "text/plain": [
              "0        2595\n",
              "1        3109\n",
              "2        5178\n",
              "3        6848\n",
              "4        7397\n",
              "        ...  \n",
              "995    171422\n",
              "996    171658\n",
              "997    173709\n",
              "998    175338\n",
              "999    176185\n",
              "Name: listing_id, Length: 1000, dtype: int64"
            ]
          },
          "metadata": {},
          "execution_count": 30
        }
      ]
    },
    {
      "cell_type": "code",
      "source": [
        "df.instant_bookable"
      ],
      "metadata": {
        "colab": {
          "base_uri": "https://localhost:8080/"
        },
        "id": "FD9Xtm2Zs5zU",
        "outputId": "47d5fc51-2531-4ce5-c8a6-616f243404f1"
      },
      "execution_count": null,
      "outputs": [
        {
          "output_type": "execute_result",
          "data": {
            "text/plain": [
              "0      f\n",
              "1      f\n",
              "2      f\n",
              "3      f\n",
              "4      f\n",
              "      ..\n",
              "995    t\n",
              "996    f\n",
              "997    f\n",
              "998    f\n",
              "999    f\n",
              "Name: instant_bookable, Length: 1000, dtype: object"
            ]
          },
          "metadata": {},
          "execution_count": 34
        }
      ]
    },
    {
      "cell_type": "code",
      "source": [
        "df.price.sort_values()"
      ],
      "metadata": {
        "colab": {
          "base_uri": "https://localhost:8080/"
        },
        "id": "ev-NGe4WDhiD",
        "outputId": "ea56df62-e7c3-4040-c943-e9f09cae9e0c"
      },
      "execution_count": null,
      "outputs": [
        {
          "output_type": "execute_result",
          "data": {
            "text/plain": [
              "51        14\n",
              "340       20\n",
              "191       21\n",
              "302       22\n",
              "476       23\n",
              "       ...  \n",
              "605     7500\n",
              "220     8000\n",
              "107    14315\n",
              "828    14315\n",
              "209    17900\n",
              "Name: price, Length: 1000, dtype: int64"
            ]
          },
          "metadata": {},
          "execution_count": 39
        }
      ]
    },
    {
      "cell_type": "code",
      "source": [
        "df.host_response_time.fillna('N/A')"
      ],
      "metadata": {
        "colab": {
          "base_uri": "https://localhost:8080/"
        },
        "id": "WXJ5vue4OV8l",
        "outputId": "eee774a6-e0b5-46e8-805a-26c1e8ef840c"
      },
      "execution_count": null,
      "outputs": [
        {
          "output_type": "execute_result",
          "data": {
            "text/plain": [
              "0      within a few hours\n",
              "1                     N/A\n",
              "2            within a day\n",
              "3                     N/A\n",
              "4          within an hour\n",
              "              ...        \n",
              "995                   N/A\n",
              "996                   N/A\n",
              "997    within a few hours\n",
              "998                   N/A\n",
              "999        within an hour\n",
              "Name: host_response_time, Length: 1000, dtype: object"
            ]
          },
          "metadata": {},
          "execution_count": 40
        }
      ]
    },
    {
      "cell_type": "code",
      "source": [],
      "metadata": {
        "id": "vT_Mp4pplyqM"
      },
      "execution_count": null,
      "outputs": []
    },
    {
      "cell_type": "code",
      "source": [
        "import pandas as pd\n",
        "import numpy as np\n"
      ],
      "metadata": {
        "id": "fk4WH7zPkvUp"
      },
      "execution_count": null,
      "outputs": []
    },
    {
      "cell_type": "code",
      "source": [
        "\n",
        "\n",
        "\n"
      ],
      "metadata": {
        "id": "zs3sTFPnl1AX"
      },
      "execution_count": null,
      "outputs": []
    }
  ]
}